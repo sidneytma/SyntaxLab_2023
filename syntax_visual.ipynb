{
 "cells": [
  {
   "cell_type": "markdown",
   "id": "58f2cb8d",
   "metadata": {},
   "source": [
    "# Data Visualization Task\n",
    "#### 3/1/23"
   ]
  },
  {
   "cell_type": "markdown",
   "id": "49f46126",
   "metadata": {},
   "source": [
    "Maho wants to make a plot with the same format as the one below:"
   ]
  },
  {
   "cell_type": "markdown",
   "id": "effb09f6",
   "metadata": {},
   "source": [
    "<img src=\"exp_eng_int.png\" width=\"500\" height=\"300\">"
   ]
  },
  {
   "cell_type": "markdown",
   "id": "9be1bddf",
   "metadata": {},
   "source": [
    "The x-axis represents the island condition, the y-axis represents the mean z-score, and the legend indicates the that-trace condition. The points also include error bars.\n",
    "\n",
    "For now, my strategy is:\n",
    "1. Get the mean z-score and SE for each of the 4 conditions\n",
    "2. Manually extract the lists for plotting\n",
    "3. Make a plt.errorbar plot with the same format\n",
    "\n",
    "There's probably a faster or more automatic way to do this using multi-indexing, so I'll look into that later."
   ]
  },
  {
   "cell_type": "markdown",
   "id": "9302d9b8",
   "metadata": {},
   "source": [
    "## Step 1. Mean z-scores and stdevs"
   ]
  },
  {
   "cell_type": "code",
   "execution_count": 2,
   "id": "31c3be76",
   "metadata": {},
   "outputs": [],
   "source": [
    "import pandas as pd\n",
    "import matplotlib.pyplot as plt\n",
    "from math import sqrt"
   ]
  },
  {
   "cell_type": "code",
   "execution_count": 3,
   "id": "a05ab74a",
   "metadata": {},
   "outputs": [
    {
     "data": {
      "text/html": [
       "<div>\n",
       "<style scoped>\n",
       "    .dataframe tbody tr th:only-of-type {\n",
       "        vertical-align: middle;\n",
       "    }\n",
       "\n",
       "    .dataframe tbody tr th {\n",
       "        vertical-align: top;\n",
       "    }\n",
       "\n",
       "    .dataframe thead th {\n",
       "        text-align: right;\n",
       "    }\n",
       "</style>\n",
       "<table border=\"1\" class=\"dataframe\">\n",
       "  <thead>\n",
       "    <tr style=\"text-align: right;\">\n",
       "      <th></th>\n",
       "      <th>subj_id</th>\n",
       "      <th>list</th>\n",
       "      <th>item</th>\n",
       "      <th>trial_type</th>\n",
       "      <th>condition</th>\n",
       "      <th>sentence</th>\n",
       "      <th>judgment</th>\n",
       "      <th>zscore</th>\n",
       "    </tr>\n",
       "  </thead>\n",
       "  <tbody>\n",
       "    <tr>\n",
       "      <th>3</th>\n",
       "      <td>1</td>\n",
       "      <td>1</td>\n",
       "      <td>11</td>\n",
       "      <td>experiment-critical</td>\n",
       "      <td>nested_island</td>\n",
       "      <td>I talked about the man that I like the truck t...</td>\n",
       "      <td>3</td>\n",
       "      <td>-0.476923</td>\n",
       "    </tr>\n",
       "    <tr>\n",
       "      <th>6</th>\n",
       "      <td>1</td>\n",
       "      <td>1</td>\n",
       "      <td>8</td>\n",
       "      <td>experiment-critical</td>\n",
       "      <td>nested_no-island</td>\n",
       "      <td>I looked up the hospital that I believe I sent...</td>\n",
       "      <td>5</td>\n",
       "      <td>0.570437</td>\n",
       "    </tr>\n",
       "    <tr>\n",
       "      <th>10</th>\n",
       "      <td>1</td>\n",
       "      <td>1</td>\n",
       "      <td>6</td>\n",
       "      <td>experiment-critical</td>\n",
       "      <td>nested_no-island</td>\n",
       "      <td>I wrote about the farmer that I believe I rece...</td>\n",
       "      <td>6</td>\n",
       "      <td>1.094118</td>\n",
       "    </tr>\n",
       "    <tr>\n",
       "      <th>14</th>\n",
       "      <td>1</td>\n",
       "      <td>1</td>\n",
       "      <td>16</td>\n",
       "      <td>experiment-critical</td>\n",
       "      <td>crossed_no-island</td>\n",
       "      <td>I heard the politician that I believe I helped...</td>\n",
       "      <td>3</td>\n",
       "      <td>-0.476923</td>\n",
       "    </tr>\n",
       "    <tr>\n",
       "      <th>17</th>\n",
       "      <td>1</td>\n",
       "      <td>1</td>\n",
       "      <td>13</td>\n",
       "      <td>experiment-critical</td>\n",
       "      <td>crossed_no-island</td>\n",
       "      <td>I looked for the purse that I believe I receiv...</td>\n",
       "      <td>2</td>\n",
       "      <td>-1.000603</td>\n",
       "    </tr>\n",
       "  </tbody>\n",
       "</table>\n",
       "</div>"
      ],
      "text/plain": [
       "    subj_id  list  item           trial_type          condition  \\\n",
       "3         1     1    11  experiment-critical      nested_island   \n",
       "6         1     1     8  experiment-critical   nested_no-island   \n",
       "10        1     1     6  experiment-critical   nested_no-island   \n",
       "14        1     1    16  experiment-critical  crossed_no-island   \n",
       "17        1     1    13  experiment-critical  crossed_no-island   \n",
       "\n",
       "                                             sentence  judgment    zscore  \n",
       "3   I talked about the man that I like the truck t...         3 -0.476923  \n",
       "6   I looked up the hospital that I believe I sent...         5  0.570437  \n",
       "10  I wrote about the farmer that I believe I rece...         6  1.094118  \n",
       "14  I heard the politician that I believe I helped...         3 -0.476923  \n",
       "17  I looked for the purse that I believe I receiv...         2 -1.000603  "
      ]
     },
     "execution_count": 3,
     "metadata": {},
     "output_type": "execute_result"
    }
   ],
   "source": [
    "df = pd.read_csv(\"judgment_data_clean.csv\")\n",
    "\n",
    "# Only include the critical trials\n",
    "df = df[df[\"trial_type\"] == \"experiment-critical\"]\n",
    "\n",
    "# Also, remove subj 17 and 22 since I never took them out of the clean dataset.\n",
    "df = df.dropna()\n",
    "\n",
    "df.head()"
   ]
  },
  {
   "cell_type": "code",
   "execution_count": 4,
   "id": "56adb320",
   "metadata": {},
   "outputs": [
    {
     "data": {
      "text/plain": [
       "condition\n",
       "crossed_island      -0.546336\n",
       "crossed_no-island    0.239661\n",
       "nested_island       -0.542939\n",
       "nested_no-island     0.400705\n",
       "Name: zscore, dtype: float64"
      ]
     },
     "execution_count": 4,
     "metadata": {},
     "output_type": "execute_result"
    }
   ],
   "source": [
    "# Get the mean z-score and SE for each condition\n",
    "means = df.groupby(\"condition\")[\"zscore\"].mean()\n",
    "errors = df.groupby(\"condition\")[\"zscore\"].std()/(sqrt(len(df)))\n",
    "means"
   ]
  },
  {
   "cell_type": "code",
   "execution_count": 5,
   "id": "c9e57859",
   "metadata": {},
   "outputs": [
    {
     "data": {
      "text/plain": [
       "condition\n",
       "crossed_island       0.025503\n",
       "crossed_no-island    0.033138\n",
       "nested_island        0.025119\n",
       "nested_no-island     0.031054\n",
       "Name: zscore, dtype: float64"
      ]
     },
     "execution_count": 5,
     "metadata": {},
     "output_type": "execute_result"
    }
   ],
   "source": [
    "errors"
   ]
  },
  {
   "cell_type": "markdown",
   "id": "83902f1b",
   "metadata": {},
   "source": [
    "## Step 2. Extract lists for plotting"
   ]
  },
  {
   "cell_type": "markdown",
   "id": "d6972e3b",
   "metadata": {},
   "source": [
    "In order to make an errorbar plot, I'll need to get the x-labels, the means for crossed/nested, and the stdevs for crossed/nested"
   ]
  },
  {
   "cell_type": "code",
   "execution_count": 6,
   "id": "53d128db",
   "metadata": {},
   "outputs": [],
   "source": [
    "x_labels = [\"non-island\", \"island\"]\n",
    "\n",
    "crossed_means = [means[\"crossed_no-island\"], means[\"crossed_island\"]]\n",
    "nested_means = [means[\"nested_no-island\"], means[\"nested_island\"]]\n",
    "\n",
    "crossed_errors = [errors[\"crossed_no-island\"], errors[\"crossed_island\"]]\n",
    "nested_errors = [errors[\"nested_no-island\"], errors[\"nested_island\"]]"
   ]
  },
  {
   "cell_type": "markdown",
   "id": "ca6c33cf",
   "metadata": {},
   "source": [
    "## Step 3. Make plot"
   ]
  },
  {
   "cell_type": "code",
   "execution_count": 7,
   "id": "072939dc",
   "metadata": {},
   "outputs": [
    {
     "data": {
      "image/png": "[encoded data removed]",
      "text/plain": [
       "<Figure size 600x400 with 1 Axes>"
      ]
     },
     "metadata": {},
     "output_type": "display_data"
    }
   ],
   "source": [
    "fig = plt.figure(figsize=(6, 4))\n",
    "\n",
    "plt.errorbar(x=x_labels, y=nested_means, yerr=nested_errors, label=\"no-that-trace\", \n",
    "             marker=\"o\", capsize=5)\n",
    "plt.errorbar(x=x_labels, y=crossed_means, yerr=crossed_errors, label=\"that-trace\",  ls=\"--\",\n",
    "             marker=\"o\", capsize=5)\n",
    "\n",
    "plt.xlabel(\"island condition\")\n",
    "plt.ylabel(\"mean acceptability (z-score)\")\n",
    "\n",
    "plt.xlim(-.4, 1.4)\n",
    "plt.ylim(-1, 1)\n",
    "\n",
    "plt.grid(alpha=0.2)\n",
    "plt.legend()\n",
    "plt.show()"
   ]
  }
 ],
 "metadata": {
  "kernelspec": {
   "display_name": "Python 3 (ipykernel)",
   "language": "python",
   "name": "python3"
  },
  "language_info": {
   "codemirror_mode": {
    "name": "ipython",
    "version": 3
   },
   "file_extension": ".py",
   "mimetype": "text/x-python",
   "name": "python",
   "nbconvert_exporter": "python",
   "pygments_lexer": "ipython3",
   "version": "3.11.4"
  }
 },
 "nbformat": 4,
 "nbformat_minor": 5
}
