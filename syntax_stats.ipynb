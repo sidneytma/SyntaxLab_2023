{
 "cells": [
  {
   "cell_type": "markdown",
   "id": "35c2f33d",
   "metadata": {
    "id": "35c2f33d"
   },
   "source": [
    "# Stats Task\n",
    "#### 3/3/23"
   ]
  },
  {
   "cell_type": "markdown",
   "id": "1741dae6",
   "metadata": {
    "id": "1741dae6"
   },
   "source": [
    "For stats, I want to use a linear mixed-effects model (like I would with the lmer package in R) with the following formula: z_score ~ that-trace * island + (1 | SubjID) + (1 | Item). I would like to include as many random effects of subject and item as possible while making sure that the model converges.\n",
    "\n",
    "-Maho"
   ]
  },
  {
   "cell_type": "code",
   "execution_count": null,
   "id": "ca121971",
   "metadata": {
    "id": "ca121971"
   },
   "outputs": [],
   "source": [
    "import pandas as pd\n",
    "import statsmodels.api as sm\n",
    "import statsmodels.formula.api as smf\n",
    "import matplotlib.pyplot as plt"
   ]
  },
  {
   "cell_type": "code",
   "execution_count": null,
   "id": "de917c99",
   "metadata": {
    "id": "de917c99"
   },
   "outputs": [],
   "source": [
    "df_ju = pd.read_csv(\"judgment_data_clean.csv\")\n",
    "df_bg = pd.read_csv(\"background_data_clean.csv\")"
   ]
  },
  {
   "cell_type": "code",
   "execution_count": null,
   "id": "efa1b9ac",
   "metadata": {
    "id": "efa1b9ac",
    "outputId": "4627d580-8841-4b1c-9bb6-4b93885347fd"
   },
   "outputs": [
    {
     "data": {
      "text/html": [
       "<div>\n",
       "<style scoped>\n",
       "    .dataframe tbody tr th:only-of-type {\n",
       "        vertical-align: middle;\n",
       "    }\n",
       "\n",
       "    .dataframe tbody tr th {\n",
       "        vertical-align: top;\n",
       "    }\n",
       "\n",
       "    .dataframe thead th {\n",
       "        text-align: right;\n",
       "    }\n",
       "</style>\n",
       "<table border=\"1\" class=\"dataframe\">\n",
       "  <thead>\n",
       "    <tr style=\"text-align: right;\">\n",
       "      <th></th>\n",
       "      <th>subj_id</th>\n",
       "      <th>list</th>\n",
       "      <th>item</th>\n",
       "      <th>trial_type</th>\n",
       "      <th>condition</th>\n",
       "      <th>sentence</th>\n",
       "      <th>judgment</th>\n",
       "      <th>zscore</th>\n",
       "      <th>that_trace</th>\n",
       "      <th>island</th>\n",
       "    </tr>\n",
       "  </thead>\n",
       "  <tbody>\n",
       "    <tr>\n",
       "      <th>3</th>\n",
       "      <td>1</td>\n",
       "      <td>1</td>\n",
       "      <td>11</td>\n",
       "      <td>experiment-critical</td>\n",
       "      <td>nested_island</td>\n",
       "      <td>I talked about the man that I like the truck t...</td>\n",
       "      <td>3</td>\n",
       "      <td>-0.476923</td>\n",
       "      <td>False</td>\n",
       "      <td>True</td>\n",
       "    </tr>\n",
       "    <tr>\n",
       "      <th>6</th>\n",
       "      <td>1</td>\n",
       "      <td>1</td>\n",
       "      <td>8</td>\n",
       "      <td>experiment-critical</td>\n",
       "      <td>nested_no-island</td>\n",
       "      <td>I looked up the hospital that I believe I sent...</td>\n",
       "      <td>5</td>\n",
       "      <td>0.570437</td>\n",
       "      <td>False</td>\n",
       "      <td>False</td>\n",
       "    </tr>\n",
       "    <tr>\n",
       "      <th>10</th>\n",
       "      <td>1</td>\n",
       "      <td>1</td>\n",
       "      <td>6</td>\n",
       "      <td>experiment-critical</td>\n",
       "      <td>nested_no-island</td>\n",
       "      <td>I wrote about the farmer that I believe I rece...</td>\n",
       "      <td>6</td>\n",
       "      <td>1.094118</td>\n",
       "      <td>False</td>\n",
       "      <td>False</td>\n",
       "    </tr>\n",
       "    <tr>\n",
       "      <th>14</th>\n",
       "      <td>1</td>\n",
       "      <td>1</td>\n",
       "      <td>16</td>\n",
       "      <td>experiment-critical</td>\n",
       "      <td>crossed_no-island</td>\n",
       "      <td>I heard the politician that I believe I helped...</td>\n",
       "      <td>3</td>\n",
       "      <td>-0.476923</td>\n",
       "      <td>True</td>\n",
       "      <td>False</td>\n",
       "    </tr>\n",
       "    <tr>\n",
       "      <th>17</th>\n",
       "      <td>1</td>\n",
       "      <td>1</td>\n",
       "      <td>13</td>\n",
       "      <td>experiment-critical</td>\n",
       "      <td>crossed_no-island</td>\n",
       "      <td>I looked for the purse that I believe I receiv...</td>\n",
       "      <td>2</td>\n",
       "      <td>-1.000603</td>\n",
       "      <td>True</td>\n",
       "      <td>False</td>\n",
       "    </tr>\n",
       "  </tbody>\n",
       "</table>\n",
       "</div>"
      ],
      "text/plain": [
       "    subj_id  list  item           trial_type          condition  \\\n",
       "3         1     1    11  experiment-critical      nested_island   \n",
       "6         1     1     8  experiment-critical   nested_no-island   \n",
       "10        1     1     6  experiment-critical   nested_no-island   \n",
       "14        1     1    16  experiment-critical  crossed_no-island   \n",
       "17        1     1    13  experiment-critical  crossed_no-island   \n",
       "\n",
       "                                             sentence  judgment    zscore  \\\n",
       "3   I talked about the man that I like the truck t...         3 -0.476923   \n",
       "6   I looked up the hospital that I believe I sent...         5  0.570437   \n",
       "10  I wrote about the farmer that I believe I rece...         6  1.094118   \n",
       "14  I heard the politician that I believe I helped...         3 -0.476923   \n",
       "17  I looked for the purse that I believe I receiv...         2 -1.000603   \n",
       "\n",
       "    that_trace  island  \n",
       "3        False    True  \n",
       "6        False   False  \n",
       "10       False   False  \n",
       "14        True   False  \n",
       "17        True   False  "
      ]
     },
     "execution_count": 3,
     "metadata": {},
     "output_type": "execute_result"
    }
   ],
   "source": [
    "# Only include critical items\n",
    "df_ju = df_ju[df_ju[\"trial_type\"] == \"experiment-critical\"]\n",
    "\n",
    "# Using the condition column, create a that-trace and an island column\n",
    "df_ju[\"that_trace\"] = df_ju[\"condition\"].apply(lambda s: \"crossed\" in s)\n",
    "df_ju[\"island\"] = df_ju[\"condition\"].apply(lambda s: \"_island\" in s)\n",
    "df_ju.head()"
   ]
  },
  {
   "cell_type": "code",
   "execution_count": null,
   "id": "402c8826",
   "metadata": {
    "id": "402c8826",
    "outputId": "46483d6f-68f3-44bb-d138-de619fa06246"
   },
   "outputs": [
    {
     "data": {
      "text/html": [
       "<div>\n",
       "<style scoped>\n",
       "    .dataframe tbody tr th:only-of-type {\n",
       "        vertical-align: middle;\n",
       "    }\n",
       "\n",
       "    .dataframe tbody tr th {\n",
       "        vertical-align: top;\n",
       "    }\n",
       "\n",
       "    .dataframe thead th {\n",
       "        text-align: right;\n",
       "    }\n",
       "</style>\n",
       "<table border=\"1\" class=\"dataframe\">\n",
       "  <thead>\n",
       "    <tr style=\"text-align: right;\">\n",
       "      <th></th>\n",
       "      <th>subj_id</th>\n",
       "      <th>input_US_age</th>\n",
       "      <th>input_age</th>\n",
       "      <th>input_birth</th>\n",
       "      <th>input_comf</th>\n",
       "      <th>input_gender</th>\n",
       "      <th>input_lang</th>\n",
       "      <th>input_lang_comf</th>\n",
       "      <th>input_parent</th>\n",
       "      <th>submission_time</th>\n",
       "    </tr>\n",
       "  </thead>\n",
       "  <tbody>\n",
       "    <tr>\n",
       "      <th>0</th>\n",
       "      <td>1</td>\n",
       "      <td>NaN</td>\n",
       "      <td>20</td>\n",
       "      <td>In the U.S.</td>\n",
       "      <td>English</td>\n",
       "      <td>Female</td>\n",
       "      <td>NaN</td>\n",
       "      <td>NaN</td>\n",
       "      <td>English</td>\n",
       "      <td>2023-02-14 17:08:33</td>\n",
       "    </tr>\n",
       "    <tr>\n",
       "      <th>1</th>\n",
       "      <td>2</td>\n",
       "      <td>NaN</td>\n",
       "      <td>22</td>\n",
       "      <td>In the U.S.</td>\n",
       "      <td>English</td>\n",
       "      <td>Female</td>\n",
       "      <td>NaN</td>\n",
       "      <td>NaN</td>\n",
       "      <td>English</td>\n",
       "      <td>2023-02-14 17:43:31</td>\n",
       "    </tr>\n",
       "    <tr>\n",
       "      <th>2</th>\n",
       "      <td>3</td>\n",
       "      <td>NaN</td>\n",
       "      <td>22</td>\n",
       "      <td>In the U.S.</td>\n",
       "      <td>English</td>\n",
       "      <td>Female</td>\n",
       "      <td>NaN</td>\n",
       "      <td>NaN</td>\n",
       "      <td>English</td>\n",
       "      <td>2023-02-14 18:52:07</td>\n",
       "    </tr>\n",
       "    <tr>\n",
       "      <th>3</th>\n",
       "      <td>5</td>\n",
       "      <td>NaN</td>\n",
       "      <td>20</td>\n",
       "      <td>In the U.S.</td>\n",
       "      <td>English</td>\n",
       "      <td>Female</td>\n",
       "      <td>Vietnamese</td>\n",
       "      <td>NaN</td>\n",
       "      <td>Others</td>\n",
       "      <td>2023-02-14 21:13:03</td>\n",
       "    </tr>\n",
       "    <tr>\n",
       "      <th>4</th>\n",
       "      <td>7</td>\n",
       "      <td>NaN</td>\n",
       "      <td>20</td>\n",
       "      <td>In the U.S.</td>\n",
       "      <td>English</td>\n",
       "      <td>Female</td>\n",
       "      <td>English and Spanish</td>\n",
       "      <td>NaN</td>\n",
       "      <td>Others</td>\n",
       "      <td>2023-02-14 21:27:39</td>\n",
       "    </tr>\n",
       "  </tbody>\n",
       "</table>\n",
       "</div>"
      ],
      "text/plain": [
       "   subj_id  input_US_age  input_age  input_birth input_comf input_gender  \\\n",
       "0        1           NaN         20  In the U.S.    English       Female   \n",
       "1        2           NaN         22  In the U.S.    English       Female   \n",
       "2        3           NaN         22  In the U.S.    English       Female   \n",
       "3        5           NaN         20  In the U.S.    English       Female   \n",
       "4        7           NaN         20  In the U.S.    English       Female   \n",
       "\n",
       "            input_lang  input_lang_comf input_parent      submission_time  \n",
       "0                  NaN              NaN      English  2023-02-14 17:08:33  \n",
       "1                  NaN              NaN      English  2023-02-14 17:43:31  \n",
       "2                  NaN              NaN      English  2023-02-14 18:52:07  \n",
       "3           Vietnamese              NaN       Others  2023-02-14 21:13:03  \n",
       "4  English and Spanish              NaN       Others  2023-02-14 21:27:39  "
      ]
     },
     "execution_count": 4,
     "metadata": {},
     "output_type": "execute_result"
    }
   ],
   "source": [
    "df_bg.head()"
   ]
  },
  {
   "cell_type": "code",
   "execution_count": null,
   "id": "29a85c66",
   "metadata": {
    "id": "29a85c66"
   },
   "outputs": [],
   "source": [
    "# Remove rows where the zscore is NaN\n",
    "df_ju = df_ju[df_ju[\"zscore\"].notnull()]"
   ]
  },
  {
   "cell_type": "code",
   "execution_count": null,
   "id": "r_VC4heCmuL7",
   "metadata": {
    "id": "r_VC4heCmuL7"
   },
   "outputs": [],
   "source": []
  },
  {
   "cell_type": "code",
   "execution_count": null,
   "id": "d70f84a7",
   "metadata": {
    "id": "d70f84a7",
    "outputId": "00b6e522-b60d-4bf2-fbf6-0bc02431b596"
   },
   "outputs": [
    {
     "name": "stdout",
     "output_type": "stream",
     "text": [
      "                    Mixed Linear Model Regression Results\n",
      "=============================================================================\n",
      "Model:                    MixedLM        Dependent Variable:        zscore   \n",
      "No. Observations:         480            Method:                    REML     \n",
      "No. Groups:               30             Scale:                     0.3999   \n",
      "Min. group size:          16             Log-Likelihood:            -475.9360\n",
      "Max. group size:          16             Converged:                 Yes      \n",
      "Mean group size:          16.0                                               \n",
      "-----------------------------------------------------------------------------\n",
      "                                  Coef.  Std.Err.    z    P>|z| [0.025 0.975]\n",
      "-----------------------------------------------------------------------------\n",
      "Intercept                          0.489    0.096   5.096 0.000  0.301  0.677\n",
      "that_trace[T.True]                -0.161    0.082  -1.973 0.049 -0.321 -0.001\n",
      "island[T.True]                    -0.936    0.082 -11.408 0.000 -1.097 -0.775\n",
      "that_trace[T.True]:island[T.True]  0.155    0.115   1.339 0.181 -0.072  0.381\n",
      "1 | subj_id                       -0.002    0.003  -0.720 0.471 -0.008  0.004\n",
      "1 | item                          -0.006    0.006  -0.921 0.357 -0.018  0.006\n",
      "subj_id Var                        0.002    0.011                            \n",
      "=============================================================================\n",
      "\n"
     ]
    },
    {
     "name": "stderr",
     "output_type": "stream",
     "text": [
      "/Users/sidneyma/opt/anaconda3/lib/python3.9/site-packages/statsmodels/base/model.py:604: ConvergenceWarning: Maximum Likelihood optimization failed to converge. Check mle_retvals\n",
      "  warnings.warn(\"Maximum Likelihood optimization failed to \"\n",
      "/Users/sidneyma/opt/anaconda3/lib/python3.9/site-packages/statsmodels/regression/mixed_linear_model.py:2200: ConvergenceWarning: Retrying MixedLM optimization with lbfgs\n",
      "  warnings.warn(\n",
      "/Users/sidneyma/opt/anaconda3/lib/python3.9/site-packages/statsmodels/regression/mixed_linear_model.py:2237: ConvergenceWarning: The MLE may be on the boundary of the parameter space.\n",
      "  warnings.warn(msg, ConvergenceWarning)\n"
     ]
    }
   ],
   "source": [
    "formula = \"zscore ~ that_trace * island + (1 | subj_id) + (1 | item)\"\n",
    "model = smf.mixedlm(formula, groups=\"subj_id\", data=df_ju)\n",
    "result = model.fit()\n",
    "print(result.summary())"
   ]
  },
  {
   "cell_type": "code",
   "execution_count": null,
   "id": "ca1ed0e3",
   "metadata": {
    "id": "ca1ed0e3"
   },
   "outputs": [],
   "source": []
  }
 ],
 "metadata": {
  "colab": {
   "provenance": []
  },
  "kernelspec": {
   "display_name": "Python 3 (ipykernel)",
   "language": "python",
   "name": "python3"
  },
  "language_info": {
   "codemirror_mode": {
    "name": "ipython",
    "version": 3
   },
   "file_extension": ".py",
   "mimetype": "text/x-python",
   "name": "python",
   "nbconvert_exporter": "python",
   "pygments_lexer": "ipython3",
   "version": "3.11.4"
  }
 },
 "nbformat": 4,
 "nbformat_minor": 5
}
